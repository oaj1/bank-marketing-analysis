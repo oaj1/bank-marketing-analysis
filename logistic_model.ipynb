{
 "cells": [
  {
   "cell_type": "markdown",
   "id": "c3144951",
   "metadata": {},
   "source": [
    "## Logistic Regression – Using More Intuitive Feature Selection for Easier Interpretation\n",
    "\n",
    "In this step, I’m transitioning from the EDA phase into building a logistic regression model.  \n",
    "Instead of using the full one-hot encoded dataset with 50+ features, I’m intentionally **selecting a smaller, more interpretable set of features** that are both relevant and easier to explain in terms of their relationship to the target variable (`y`).\n",
    "\n",
    "**Rationale for this approach:**\n",
    "- **Interpretability:** A smaller set of features makes it easier to understand how each variable influences the prediction.\n",
    "- **Simplicity:** Reduces complexity and multicollinearity issues that can occur with many dummy variables.\n",
    "- **Focus on meaningful predictors:** Using variables that have clear business or contextual meaning.\n",
    "\n",
    "**Features selected:**\n",
    "- `age` – Age of the individual.\n",
    "- `previous` – Number of previous contacts with the client.\n",
    "- `emp.var.rate` – Employment variation rate.\n",
    "- `cons.price.idx` – Consumer price index.\n",
    "- `cons.conf.idx` – Consumer confidence index.\n",
    "- `euribor3m` – 3-month Euribor interest rate.\n",
    "- `nr.employed` – Number of employees.\n",
    "- `prior_contact` – Binary flag if the client had been previously contacted.\n",
    "- `campaign_capped` – Number of contacts made during the current campaign (capped).\n",
    "\n",
    "**Target variable:**\n",
    "- `y` – Binary outcome indicating if the client subscribed to the term deposit (1) or not (0).\n",
    "\n",
    "**Next steps:**\n",
    "1. Split data into training and testing sets.\n",
    "2. Scale numeric features for logistic regression.\n",
    "3. Train the model.\n",
    "4. Evaluate performance (accuracy, classification report, confusion matrix).\n",
    "5. Optionally, interpret coefficients to understand feature importance.\n"
   ]
  },
  {
   "cell_type": "code",
   "execution_count": 27,
   "id": "a02de0a3",
   "metadata": {},
   "outputs": [],
   "source": [
    "#lets first import pandas and read from the cleaned dataset\n",
    "import pandas as pd\n",
    "\n",
    "\n",
    "df = pd.read_csv('cleaned_bank.csv')"
   ]
  },
  {
   "cell_type": "markdown",
   "id": "ed4860db",
   "metadata": {},
   "source": [
    "1.Feature selection (My reduced intuitive feature list).\n",
    "\n",
    "2.Train/test split.\n",
    "\n",
    "3.Scaling.\n",
    "\n",
    "4.Model fitting.\n",
    "\n",
    "5.Evaluation."
   ]
  },
  {
   "cell_type": "code",
   "execution_count": 28,
   "id": "6d42889f",
   "metadata": {},
   "outputs": [],
   "source": [
    "#Feature selection for logistic regression\n",
    "#We will use the following features for our logistic regression model:\n",
    "#1. age, previous, emp.var.rate, cons.price.idx, cons.conf.idx, euribor3m, nr.employed\n",
    "\n",
    "features_to_keep = [\n",
    "    'age',\n",
    "    'previous',\n",
    "    'emp.var.rate',\n",
    "    'cons.price.idx',\n",
    "    'cons.conf.idx',\n",
    "    'euribor3m',\n",
    "    'nr.employed',\n",
    "    'prior_contact',\n",
    "    'campaign_capped'\n",
    "]\n",
    "\n",
    "\n"
   ]
  },
  {
   "cell_type": "code",
   "execution_count": 29,
   "id": "db9b5c8b",
   "metadata": {},
   "outputs": [],
   "source": [
    "#keep only selected features compare against the target variable 'y'\n",
    "X = df[features_to_keep].copy () # Features for the model\n",
    "y = df['y'].astype(int)  # Convert target variable to integer (0 or 1)\n",
    "\n",
    "type(X), type(y)\n",
    "# ensure binary columns are ints (0/1) not bool/object\n",
    "X[['prior_contact', 'campaign_capped']] = X[['prior_contact', 'campaign_capped']].astype(int)"
   ]
  },
  {
   "cell_type": "markdown",
   "id": "cb972c7f",
   "metadata": {},
   "source": [
    "Identify Column Types\n",
    "Identify which columns are numeric and which are categorical"
   ]
  },
  {
   "cell_type": "code",
   "execution_count": 32,
   "id": "bd3c313e",
   "metadata": {},
   "outputs": [
    {
     "name": "stdout",
     "output_type": "stream",
     "text": [
      "Numeric columns: ['age', 'previous', 'emp.var.rate', 'cons.price.idx', 'cons.conf.idx', 'euribor3m', 'nr.employed']\n",
      "Categorical columns: ['prior_contact', 'campaign_capped']\n"
     ]
    }
   ],
   "source": [
    "numeric_cols = X.select_dtypes(include=['int64', 'float64']).columns.tolist()\n",
    "categorical_cols = X.select_dtypes(exclude=['int64', 'float64']).columns.tolist()\n",
    "\n",
    "print(\"Numeric columns:\", numeric_cols)\n",
    "print(\"Categorical columns:\", categorical_cols)"
   ]
  }
 ],
 "metadata": {
  "kernelspec": {
   "display_name": "base",
   "language": "python",
   "name": "python3"
  },
  "language_info": {
   "codemirror_mode": {
    "name": "ipython",
    "version": 3
   },
   "file_extension": ".py",
   "mimetype": "text/x-python",
   "name": "python",
   "nbconvert_exporter": "python",
   "pygments_lexer": "ipython3",
   "version": "3.11.7"
  }
 },
 "nbformat": 4,
 "nbformat_minor": 5
}
