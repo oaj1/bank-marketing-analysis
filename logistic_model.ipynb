{
 "cells": [
  {
   "cell_type": "markdown",
   "id": "c3144951",
   "metadata": {},
   "source": [
    "## Logistic Regression – Using More Intuitive Feature Selection for Easier Interpretation\n",
    "\n",
    "In this step, I’m transitioning from the EDA phase into building a logistic regression model.  \n",
    "Instead of using the full one-hot encoded dataset with 50+ features, I’m intentionally **selecting a smaller, more interpretable set of features** that are both relevant and easier to explain in terms of their relationship to the target variable (`y`).\n",
    "\n",
    "**Rationale for this approach:**\n",
    "- **Interpretability:** A smaller set of features makes it easier to understand how each variable influences the prediction.\n",
    "- **Simplicity:** Reduces complexity and multicollinearity issues that can occur with many dummy variables.\n",
    "- **Focus on meaningful predictors:** Using variables that have clear business or contextual meaning.\n",
    "\n",
    "**Features selected:**\n",
    "- `age` – Age of the individual.\n",
    "- `previous` – Number of previous contacts with the client.\n",
    "- `emp.var.rate` – Employment variation rate.\n",
    "- `cons.price.idx` – Consumer price index.\n",
    "- `cons.conf.idx` – Consumer confidence index.\n",
    "- `euribor3m` – 3-month Euribor interest rate.\n",
    "- `nr.employed` – Number of employees.\n",
    "- `prior_contact` – Binary flag if the client had been previously contacted.\n",
    "- `campaign_capped` – Number of contacts made during the current campaign (capped).\n",
    "\n",
    "**Target variable:**\n",
    "- `y` – Binary outcome indicating if the client subscribed to the term deposit (1) or not (0).\n",
    "\n",
    "**Next steps:**\n",
    "1. Split data into training and testing sets.\n",
    "2. Scale numeric features for logistic regression.\n",
    "3. Train the model.\n",
    "4. Evaluate performance (accuracy, classification report, confusion matrix).\n",
    "5. Optionally, interpret coefficients to understand feature importance.\n"
   ]
  },
  {
   "cell_type": "code",
   "execution_count": 1,
   "id": "a02de0a3",
   "metadata": {},
   "outputs": [],
   "source": [
    "#lets first import pandas and read from the cleaned dataset\n",
    "import pandas as pd\n",
    "\n",
    "\n",
    "df = pd.read_csv('cleaned_bank.csv')"
   ]
  },
  {
   "cell_type": "markdown",
   "id": "ed4860db",
   "metadata": {},
   "source": [
    "1.Feature selection (My reduced intuitive feature list).\n",
    "\n",
    "2.Train/test split.\n",
    "\n",
    "3.Scaling.\n",
    "\n",
    "4.Model fitting.\n",
    "\n",
    "5.Evaluation.\n",
    "\n"
   ]
  },
  {
   "cell_type": "markdown",
   "id": "6c47f71f",
   "metadata": {},
   "source": [
    "1.) Feature Selection"
   ]
  },
  {
   "cell_type": "code",
   "execution_count": 2,
   "id": "6d42889f",
   "metadata": {},
   "outputs": [],
   "source": [
    "#Feature selection for logistic regression\n",
    "#We will use the following features for our logistic regression model:\n",
    "#1. age, previous, emp.var.rate, cons.price.idx, cons.conf.idx, euribor3m, nr.employed\n",
    "\n",
    "features_to_keep = [\n",
    "    'age',\n",
    "    'previous',\n",
    "    'emp.var.rate',\n",
    "    'cons.price.idx',\n",
    "    'cons.conf.idx',\n",
    "    'euribor3m',\n",
    "    'nr.employed',\n",
    "    'prior_contact',\n",
    "    'campaign_capped'\n",
    "]\n",
    "\n",
    "\n"
   ]
  },
  {
   "cell_type": "markdown",
   "id": "b934ecd9",
   "metadata": {},
   "source": [
    "### Feature Selection for Logistic Regression\n",
    "\n",
    "In this step, we define the set of features that will be used as inputs for our logistic regression model.  \n",
    "The selected features are chosen because they capture key aspects of the client’s profile, economic indicators,  \n",
    "and campaign history that may influence the outcome.\n",
    "## Selected Features – Explanation\n",
    "\n",
    "1. **age**  \n",
    "   - Client’s age in years.  \n",
    "   - Captures demographic differences in financial decision-making.  \n",
    "\n",
    "2. **previous**  \n",
    "   - Number of contacts with the client in prior campaigns.  \n",
    "   - High = potential saturation/annoyance, Low = fresh prospect.  \n",
    "\n",
    "3. **emp.var.rate** (Employment Variation Rate)  \n",
    "   - Quarterly change in employment (economic indicator).  \n",
    "   - Rising = stronger job market, recessionary dips reduce conversions.  \n",
    "\n",
    "4. **cons.price.idx** (Consumer Price Index)  \n",
    "   - Measure of inflation in goods/services.  \n",
    "   - High = inflation pressure, lowers disposable income.  \n",
    "\n",
    "5. **cons.conf.idx** (Consumer Confidence Index)  \n",
    "   - Sentiment indicator of optimism/pessimism about the economy.  \n",
    "   - High = clients more willing to invest, Low = cautious spending.  \n",
    "\n",
    "6. **euribor3m** (Euribor 3-month rate)  \n",
    "   - Benchmark interest rate for European banks.  \n",
    "   - Higher rates tighten credit → more conservative client behavior.  \n",
    "\n",
    "7. **nr.employed**  \n",
    "   - Macro-level count of employed individuals.  \n",
    "   - Higher = strong economy, Lower = weaker economic environment.  \n",
    "\n",
    "8. **prior_contact**  \n",
    "   - Binary: whether client was contacted in previous campaigns.  \n",
    "   - Distinguishes new vs. previously exposed prospects.  \n",
    "\n",
    "9. **campaign_capped**  \n",
    "   - Modified `campaign` variable with outliers capped.  \n",
    "   - Reduces distortion from extreme values (e.g., 30+ contact attempts).  \n",
    "\n",
    "---\n",
    "\n",
    "### Summary\n",
    "- **Client-level features:** `age`, `previous`, `prior_contact`, `campaign_capped`.  \n",
    "- **Macro-economic features:** `emp.var.rate`, `cons.price.idx`, `cons.conf.idx`, `euribor3m`, `nr.employed`.  \n",
    "- Together, these capture both *individual behavior* and *economic context* for more robust modeling.\n",
    "\n"
   ]
  },
  {
   "cell_type": "code",
   "execution_count": 3,
   "id": "db9b5c8b",
   "metadata": {},
   "outputs": [],
   "source": [
    "#keep only selected features compare against the target variable 'y'\n",
    "X = df[features_to_keep].copy () # Features for the model\n",
    "y = df['y'].astype(int)  # Convert target variable to integer (0 or 1)\n",
    "\n",
    "#type(X), type(y)\n",
    "# ensure binary columns are ints (0/1) not bool/object\n",
    "X[['prior_contact', 'campaign_capped']] = X[['prior_contact', 'campaign_capped']].astype('category')"
   ]
  },
  {
   "cell_type": "markdown",
   "id": "859a5c28",
   "metadata": {},
   "source": [
    "### Preparing Features and Target Variable for Logistic Regression\n",
    "\n",
    "After selecting the features, the next step is to separate the input variables (**X**) and the target variable (**y**) to train our logistic regression model.\n",
    "\n",
    "**Steps:**\n",
    "1. **Select Features (X):**  \n",
    "   - `X = df[features_to_keep].copy()` creates a new dataframe containing only the chosen features.  \n",
    "   - This prevents accidental changes to the original dataframe while modeling.  \n",
    "\n",
    "2. **Define Target (y):**  \n",
    "   - `y = df['y'].astype(int)` extracts the target column (`y`) and converts it to integers (0 or 1).  \n",
    "   - This ensures the target is properly formatted for binary classification.  \n",
    "\n",
    "3. **Ensure Correct Data Types for Binary Features:**  \n",
    "   - `X[['prior_contact', 'campaign_capped']] = ... .astype('category')`  \n",
    "   - Converts these features into categorical variables (instead of boolean or object).  \n",
    "   - This helps the model and preprocessing pipelines treat them correctly.  \n"
   ]
  },
  {
   "cell_type": "markdown",
   "id": "cb972c7f",
   "metadata": {},
   "source": [
    "Identify Column Types\n",
    "Identify which columns are numeric and which are categorical"
   ]
  },
  {
   "cell_type": "code",
   "execution_count": 4,
   "id": "bd3c313e",
   "metadata": {},
   "outputs": [
    {
     "name": "stdout",
     "output_type": "stream",
     "text": [
      "Numeric columns: ['age', 'previous', 'emp.var.rate', 'cons.price.idx', 'cons.conf.idx', 'euribor3m', 'nr.employed']\n",
      "Categorical columns: ['prior_contact', 'campaign_capped']\n",
      "target variable: y 0 or 1: int32\n"
     ]
    }
   ],
   "source": [
    "numeric_cols = X.select_dtypes(include=['int64', 'float64']).columns.tolist()\n",
    "categorical_cols = X.select_dtypes(exclude=['int64', 'float64']).columns.tolist()\n",
    "\n",
    "print(\"Numeric columns:\", numeric_cols)\n",
    "print(\"Categorical columns:\", categorical_cols)\n",
    "print('target variable:', y.name + ' 0 or 1:', y.dtype)\n"
   ]
  },
  {
   "cell_type": "markdown",
   "id": "9d63f7a7",
   "metadata": {},
   "source": [
    "2.) Train/test split."
   ]
  },
  {
   "cell_type": "code",
   "execution_count": 5,
   "id": "60d46fcb",
   "metadata": {},
   "outputs": [
    {
     "name": "stdout",
     "output_type": "stream",
     "text": [
      "(31462, 9) (7866, 9) (31462,) (7866,)\n"
     ]
    }
   ],
   "source": [
    "from sklearn.model_selection import train_test_split\n",
    "\n",
    "# Split the dataset into training and testing sets\n",
    "# test size 20% of rows go to test set, 80% to train set\n",
    "# random_state ensures reproducibility of the split\n",
    "# stratify ensures that the proportion of classes in y is maintained in both train and test sets\n",
    "\n",
    "\n",
    "X_train, X_test, y_train, y_test = train_test_split(X,y,test_size=0.2,random_state=42, stratify=y)\n",
    "\n",
    "#\n",
    "print(X_train.shape, X_test.shape, y_train.shape, y_test.shape)"
   ]
  },
  {
   "cell_type": "markdown",
   "id": "549c0754",
   "metadata": {},
   "source": [
    "**Train/Test Split — Output Summary**\n",
    "-------------------------------------\n",
    "\n",
    "**X_train**: feature matrix used to train the model (rows = training examples, cols = features).  \n",
    "**y_train**: target labels for those training examples.  \n",
    "**X_test**: feature matrix held out for evaluating the trained model.  \n",
    "**y_test**: true labels for the test rows used only to measure performance.  \n",
    "\n",
    "---\n",
    "\n",
    "### 🔑 Key differences and why they matter\n",
    "- **Purpose:**  \n",
    "  - `X_train` / `y_train` → learn model parameters.  \n",
    "  - `X_test` / `y_test` → assess how the learned model generalizes to unseen data.  \n",
    "\n",
    "---\n",
    "\n",
    "### 📊 What the Output Means\n",
    "- `X_train` → 31,462 rows × 9 features (80% of the data)  \n",
    "- `X_test`  →  7,866 rows × 9 features (20% of the data)  \n",
    "- `y_train` → 31,462 labels (matches X_train rows)  \n",
    "- `y_test`  →  7,866 labels (matches X_test rows)  \n",
    "\n",
    "---\n",
    "\n",
    "### 🧮 Why the Numbers Make Sense\n",
    "- **Total rows:**  \n",
    "  31,462 + 7,866 = 39,328 total rows in dataset.  \n",
    "\n",
    "- **80/20 split check:**  \n",
    "  - Train: 39,328 × 0.8 ≈ 31,462  ✅  \n",
    "  - Test:  39,328 × 0.2 ≈  7,866  ✅  \n",
    "\n",
    "- **Same features in train/test:**  \n",
    "  Both X_train and X_test have exactly 9 columns (features).  \n"
   ]
  },
  {
   "cell_type": "markdown",
   "id": "38d50294",
   "metadata": {},
   "source": [
    "Now I need to scale continous features, fit logistic regression on X_train/y_train"
   ]
  },
  {
   "cell_type": "markdown",
   "id": "a3b616cd",
   "metadata": {},
   "source": [
    "3.) Scaling"
   ]
  },
  {
   "cell_type": "code",
   "execution_count": 6,
   "id": "1f0b35d9",
   "metadata": {},
   "outputs": [],
   "source": [
    "#Now lets do some preprocessing of the data\n",
    "#Preprocessing is important for machine learning models to ensure that the data is in the right format\n",
    "#Preprocessing = cleaning, imputing, encoding, scaling, etc.\n",
    "#Typical steps, 1.) train test split, 2.) categorical encoding, 3.) scaling, 4.) model training\n",
    "\n",
    "#We already did the train test split above, now we will do categorical encoding and scaling\n",
    "from sklearn.linear_model import LogisticRegression\n",
    "from sklearn.preprocessing import StandardScaler, OneHotEncoder\n",
    "from sklearn.compose import ColumnTransformer\n",
    "\n",
    "#time to do one-hot encoding for categorical features\n",
    "preprocessor = ColumnTransformer (\n",
    "\n",
    "    transformers = [\n",
    "        ('num', StandardScaler(), numeric_cols),  # Scale numeric columns\n",
    "        \n",
    "        ('cat', OneHotEncoder(handle_unknown='ignore'), categorical_cols) # One-hot encode categorical columns, ignore unknown categories during transformation\n",
    "    ]\n",
    "    , remainder= \"drop\"  # Drop any columns not specified in the transformers list, because we only want to keep the selected features\n",
    ")\n",
    "\n",
    "#Now we do a pipeline to combine preprocessing with the model\n",
    "from sklearn.pipeline import Pipeline\n",
    "\n",
    "pipeline = Pipeline(steps=[\n",
    "    ('preprocessor',preprocessor),  # Preprocessing step\n",
    "    ('clf', LogisticRegression(class_weight = 'balanced',max_iter=1000))  # Logistic Regression model, balannced class weights to handle class imbalance\n",
    "\n",
    "])"
   ]
  },
  {
   "cell_type": "markdown",
   "id": "72166225",
   "metadata": {},
   "source": [
    "## 📦 Preprocessing + Modeling Pipeline — Deep Dive (What I'm doing & why)\n",
    "\n",
    "### 🎯 Objective\n",
    "Create a **reproducible, leak-free** ML workflow that:\n",
    "1) transforms features appropriately (scaling + encoding),  \n",
    "2) keeps your feature set controlled, and  \n",
    "3) trains a **logistic regression** that accounts for **class imbalance**."
   ]
  },
  {
   "cell_type": "markdown",
   "id": "fc5a2bcf",
   "metadata": {},
   "source": [
    "Pipeline: chains preprocessing steps and a final estimator so you call fit/transform/predict once. It guarantees transforms are applied in the correct order and prevents data leakage ( fit transforms only on X_train).\n",
    "\n",
    "ColumnTransformer: applies different transforms to different column subsets (e.g., scale numeric, one-hot encode categorical) and returns a single feature matrix the estimator can use.\n",
    "\n",
    "Benefits: simpler code, fewer mistakes (no manual concat/typos), reproducible transforms saved with the model, and safe train/test separation."
   ]
  },
  {
   "cell_type": "markdown",
   "id": "31178a72",
   "metadata": {},
   "source": [
    "## 🔎 Why One-Hot Encoding for `prior_contact` and `campaign_capped`\n",
    "\n",
    "---\n",
    "\n",
    "### 1) `prior_contact` (binary categorical: Yes/No)\n",
    "- Original feature: `\"Yes\"` or `\"No\"`.\n",
    "- One-hot encoding expands this into **two columns**:\n",
    "\n",
    "| prior_contact | prior_contact_Yes | prior_contact_No |\n",
    "|---------------|-------------------|------------------|\n",
    "| Yes           | 1                 | 0                |\n",
    "| No            | 0                 | 1                |\n",
    "\n",
    "**Why this matters:**\n",
    "- Logistic regression can’t directly use text labels, it needs numeric values.  \n",
    "- One-hot encoding prevents the model from assuming `\"Yes=1\"` is “greater” than `\"No=0\"`.  \n",
    "- The model learns separate coefficients:  \n",
    "  - `\"Yes\"` might increase the probability of conversion.  \n",
    "  - `\"No\"` might decrease it.  \n",
    "\n",
    "---\n",
    "\n",
    "### 2) `campaign_capped` (capped version of contact attempts)\n",
    "- Original variable: number of contacts made during the campaign.  \n",
    "- Capped to avoid outliers (e.g., clients contacted 30+ times).  \n",
    "- Treated as **categorical buckets** instead of continuous numbers:\n",
    "\n",
    "Example buckets:  \n",
    "- `\"1 contact\"`  \n",
    "- `\"2 contacts\"`  \n",
    "- `\"3 contacts\"`  \n",
    "- `\"4 contacts\"`  \n",
    "- `\"5+ contacts\"`  \n",
    "\n",
    "One-hot encoding expands this into multiple binary columns:\n",
    "\n",
    "| campaign_capped | camp_1 | camp_2 | camp_3 | camp_4 | camp_5plus |\n",
    "|-----------------|--------|--------|--------|--------|------------|\n",
    "| 1               | 1      | 0      | 0      | 0      | 0          |\n",
    "| 3               | 0      | 0      | 1      | 0      | 0          |\n",
    "| 7 (capped→5+)   | 0      | 0      | 0      | 0      | 1          |\n",
    "\n",
    "**Why this matters:**\n",
    "- If left numeric, the model would assume a **linear relationship** (e.g., each additional call has the same effect).  \n",
    "- In reality, effects may differ:\n",
    "  - 1–2 calls could increase conversion chances.  \n",
    "  - 5+ calls may actually hurt conversion (client fatigue).  \n",
    "- One-hot lets the model learn **separate effects for each bucket**.\n",
    "\n",
    "---\n",
    "\n",
    "### ✅ Bottom line\n",
    "- **`prior_contact`** → One-hot ensures binary categories are treated as distinct groups, not numbers on a scale.  \n",
    "- **`campaign_capped`** → One-hot lets the model handle different contact attempt ranges independently, capturing non-linear effects.\n"
   ]
  },
  {
   "cell_type": "markdown",
   "id": "531124a6",
   "metadata": {},
   "source": [
    "4.) Fit Model"
   ]
  },
  {
   "cell_type": "code",
   "execution_count": 7,
   "id": "483736f4",
   "metadata": {},
   "outputs": [
    {
     "data": {
      "text/html": [
       "<style>#sk-container-id-1 {color: black;background-color: white;}#sk-container-id-1 pre{padding: 0;}#sk-container-id-1 div.sk-toggleable {background-color: white;}#sk-container-id-1 label.sk-toggleable__label {cursor: pointer;display: block;width: 100%;margin-bottom: 0;padding: 0.3em;box-sizing: border-box;text-align: center;}#sk-container-id-1 label.sk-toggleable__label-arrow:before {content: \"▸\";float: left;margin-right: 0.25em;color: #696969;}#sk-container-id-1 label.sk-toggleable__label-arrow:hover:before {color: black;}#sk-container-id-1 div.sk-estimator:hover label.sk-toggleable__label-arrow:before {color: black;}#sk-container-id-1 div.sk-toggleable__content {max-height: 0;max-width: 0;overflow: hidden;text-align: left;background-color: #f0f8ff;}#sk-container-id-1 div.sk-toggleable__content pre {margin: 0.2em;color: black;border-radius: 0.25em;background-color: #f0f8ff;}#sk-container-id-1 input.sk-toggleable__control:checked~div.sk-toggleable__content {max-height: 200px;max-width: 100%;overflow: auto;}#sk-container-id-1 input.sk-toggleable__control:checked~label.sk-toggleable__label-arrow:before {content: \"▾\";}#sk-container-id-1 div.sk-estimator input.sk-toggleable__control:checked~label.sk-toggleable__label {background-color: #d4ebff;}#sk-container-id-1 div.sk-label input.sk-toggleable__control:checked~label.sk-toggleable__label {background-color: #d4ebff;}#sk-container-id-1 input.sk-hidden--visually {border: 0;clip: rect(1px 1px 1px 1px);clip: rect(1px, 1px, 1px, 1px);height: 1px;margin: -1px;overflow: hidden;padding: 0;position: absolute;width: 1px;}#sk-container-id-1 div.sk-estimator {font-family: monospace;background-color: #f0f8ff;border: 1px dotted black;border-radius: 0.25em;box-sizing: border-box;margin-bottom: 0.5em;}#sk-container-id-1 div.sk-estimator:hover {background-color: #d4ebff;}#sk-container-id-1 div.sk-parallel-item::after {content: \"\";width: 100%;border-bottom: 1px solid gray;flex-grow: 1;}#sk-container-id-1 div.sk-label:hover label.sk-toggleable__label {background-color: #d4ebff;}#sk-container-id-1 div.sk-serial::before {content: \"\";position: absolute;border-left: 1px solid gray;box-sizing: border-box;top: 0;bottom: 0;left: 50%;z-index: 0;}#sk-container-id-1 div.sk-serial {display: flex;flex-direction: column;align-items: center;background-color: white;padding-right: 0.2em;padding-left: 0.2em;position: relative;}#sk-container-id-1 div.sk-item {position: relative;z-index: 1;}#sk-container-id-1 div.sk-parallel {display: flex;align-items: stretch;justify-content: center;background-color: white;position: relative;}#sk-container-id-1 div.sk-item::before, #sk-container-id-1 div.sk-parallel-item::before {content: \"\";position: absolute;border-left: 1px solid gray;box-sizing: border-box;top: 0;bottom: 0;left: 50%;z-index: -1;}#sk-container-id-1 div.sk-parallel-item {display: flex;flex-direction: column;z-index: 1;position: relative;background-color: white;}#sk-container-id-1 div.sk-parallel-item:first-child::after {align-self: flex-end;width: 50%;}#sk-container-id-1 div.sk-parallel-item:last-child::after {align-self: flex-start;width: 50%;}#sk-container-id-1 div.sk-parallel-item:only-child::after {width: 0;}#sk-container-id-1 div.sk-dashed-wrapped {border: 1px dashed gray;margin: 0 0.4em 0.5em 0.4em;box-sizing: border-box;padding-bottom: 0.4em;background-color: white;}#sk-container-id-1 div.sk-label label {font-family: monospace;font-weight: bold;display: inline-block;line-height: 1.2em;}#sk-container-id-1 div.sk-label-container {text-align: center;}#sk-container-id-1 div.sk-container {/* jupyter's `normalize.less` sets `[hidden] { display: none; }` but bootstrap.min.css set `[hidden] { display: none !important; }` so we also need the `!important` here to be able to override the default hidden behavior on the sphinx rendered scikit-learn.org. See: https://github.com/scikit-learn/scikit-learn/issues/21755 */display: inline-block !important;position: relative;}#sk-container-id-1 div.sk-text-repr-fallback {display: none;}</style><div id=\"sk-container-id-1\" class=\"sk-top-container\"><div class=\"sk-text-repr-fallback\"><pre>Pipeline(steps=[(&#x27;preprocessor&#x27;,\n",
       "                 ColumnTransformer(transformers=[(&#x27;num&#x27;, StandardScaler(),\n",
       "                                                  [&#x27;age&#x27;, &#x27;previous&#x27;,\n",
       "                                                   &#x27;emp.var.rate&#x27;,\n",
       "                                                   &#x27;cons.price.idx&#x27;,\n",
       "                                                   &#x27;cons.conf.idx&#x27;, &#x27;euribor3m&#x27;,\n",
       "                                                   &#x27;nr.employed&#x27;]),\n",
       "                                                 (&#x27;cat&#x27;,\n",
       "                                                  OneHotEncoder(handle_unknown=&#x27;ignore&#x27;),\n",
       "                                                  [&#x27;prior_contact&#x27;,\n",
       "                                                   &#x27;campaign_capped&#x27;])])),\n",
       "                (&#x27;clf&#x27;,\n",
       "                 LogisticRegression(class_weight=&#x27;balanced&#x27;, max_iter=1000))])</pre><b>In a Jupyter environment, please rerun this cell to show the HTML representation or trust the notebook. <br />On GitHub, the HTML representation is unable to render, please try loading this page with nbviewer.org.</b></div><div class=\"sk-container\" hidden><div class=\"sk-item sk-dashed-wrapped\"><div class=\"sk-label-container\"><div class=\"sk-label sk-toggleable\"><input class=\"sk-toggleable__control sk-hidden--visually\" id=\"sk-estimator-id-1\" type=\"checkbox\" ><label for=\"sk-estimator-id-1\" class=\"sk-toggleable__label sk-toggleable__label-arrow\">Pipeline</label><div class=\"sk-toggleable__content\"><pre>Pipeline(steps=[(&#x27;preprocessor&#x27;,\n",
       "                 ColumnTransformer(transformers=[(&#x27;num&#x27;, StandardScaler(),\n",
       "                                                  [&#x27;age&#x27;, &#x27;previous&#x27;,\n",
       "                                                   &#x27;emp.var.rate&#x27;,\n",
       "                                                   &#x27;cons.price.idx&#x27;,\n",
       "                                                   &#x27;cons.conf.idx&#x27;, &#x27;euribor3m&#x27;,\n",
       "                                                   &#x27;nr.employed&#x27;]),\n",
       "                                                 (&#x27;cat&#x27;,\n",
       "                                                  OneHotEncoder(handle_unknown=&#x27;ignore&#x27;),\n",
       "                                                  [&#x27;prior_contact&#x27;,\n",
       "                                                   &#x27;campaign_capped&#x27;])])),\n",
       "                (&#x27;clf&#x27;,\n",
       "                 LogisticRegression(class_weight=&#x27;balanced&#x27;, max_iter=1000))])</pre></div></div></div><div class=\"sk-serial\"><div class=\"sk-item sk-dashed-wrapped\"><div class=\"sk-label-container\"><div class=\"sk-label sk-toggleable\"><input class=\"sk-toggleable__control sk-hidden--visually\" id=\"sk-estimator-id-2\" type=\"checkbox\" ><label for=\"sk-estimator-id-2\" class=\"sk-toggleable__label sk-toggleable__label-arrow\">preprocessor: ColumnTransformer</label><div class=\"sk-toggleable__content\"><pre>ColumnTransformer(transformers=[(&#x27;num&#x27;, StandardScaler(),\n",
       "                                 [&#x27;age&#x27;, &#x27;previous&#x27;, &#x27;emp.var.rate&#x27;,\n",
       "                                  &#x27;cons.price.idx&#x27;, &#x27;cons.conf.idx&#x27;,\n",
       "                                  &#x27;euribor3m&#x27;, &#x27;nr.employed&#x27;]),\n",
       "                                (&#x27;cat&#x27;, OneHotEncoder(handle_unknown=&#x27;ignore&#x27;),\n",
       "                                 [&#x27;prior_contact&#x27;, &#x27;campaign_capped&#x27;])])</pre></div></div></div><div class=\"sk-parallel\"><div class=\"sk-parallel-item\"><div class=\"sk-item\"><div class=\"sk-label-container\"><div class=\"sk-label sk-toggleable\"><input class=\"sk-toggleable__control sk-hidden--visually\" id=\"sk-estimator-id-3\" type=\"checkbox\" ><label for=\"sk-estimator-id-3\" class=\"sk-toggleable__label sk-toggleable__label-arrow\">num</label><div class=\"sk-toggleable__content\"><pre>[&#x27;age&#x27;, &#x27;previous&#x27;, &#x27;emp.var.rate&#x27;, &#x27;cons.price.idx&#x27;, &#x27;cons.conf.idx&#x27;, &#x27;euribor3m&#x27;, &#x27;nr.employed&#x27;]</pre></div></div></div><div class=\"sk-serial\"><div class=\"sk-item\"><div class=\"sk-estimator sk-toggleable\"><input class=\"sk-toggleable__control sk-hidden--visually\" id=\"sk-estimator-id-4\" type=\"checkbox\" ><label for=\"sk-estimator-id-4\" class=\"sk-toggleable__label sk-toggleable__label-arrow\">StandardScaler</label><div class=\"sk-toggleable__content\"><pre>StandardScaler()</pre></div></div></div></div></div></div><div class=\"sk-parallel-item\"><div class=\"sk-item\"><div class=\"sk-label-container\"><div class=\"sk-label sk-toggleable\"><input class=\"sk-toggleable__control sk-hidden--visually\" id=\"sk-estimator-id-5\" type=\"checkbox\" ><label for=\"sk-estimator-id-5\" class=\"sk-toggleable__label sk-toggleable__label-arrow\">cat</label><div class=\"sk-toggleable__content\"><pre>[&#x27;prior_contact&#x27;, &#x27;campaign_capped&#x27;]</pre></div></div></div><div class=\"sk-serial\"><div class=\"sk-item\"><div class=\"sk-estimator sk-toggleable\"><input class=\"sk-toggleable__control sk-hidden--visually\" id=\"sk-estimator-id-6\" type=\"checkbox\" ><label for=\"sk-estimator-id-6\" class=\"sk-toggleable__label sk-toggleable__label-arrow\">OneHotEncoder</label><div class=\"sk-toggleable__content\"><pre>OneHotEncoder(handle_unknown=&#x27;ignore&#x27;)</pre></div></div></div></div></div></div></div></div><div class=\"sk-item\"><div class=\"sk-estimator sk-toggleable\"><input class=\"sk-toggleable__control sk-hidden--visually\" id=\"sk-estimator-id-7\" type=\"checkbox\" ><label for=\"sk-estimator-id-7\" class=\"sk-toggleable__label sk-toggleable__label-arrow\">LogisticRegression</label><div class=\"sk-toggleable__content\"><pre>LogisticRegression(class_weight=&#x27;balanced&#x27;, max_iter=1000)</pre></div></div></div></div></div></div></div>"
      ],
      "text/plain": [
       "Pipeline(steps=[('preprocessor',\n",
       "                 ColumnTransformer(transformers=[('num', StandardScaler(),\n",
       "                                                  ['age', 'previous',\n",
       "                                                   'emp.var.rate',\n",
       "                                                   'cons.price.idx',\n",
       "                                                   'cons.conf.idx', 'euribor3m',\n",
       "                                                   'nr.employed']),\n",
       "                                                 ('cat',\n",
       "                                                  OneHotEncoder(handle_unknown='ignore'),\n",
       "                                                  ['prior_contact',\n",
       "                                                   'campaign_capped'])])),\n",
       "                ('clf',\n",
       "                 LogisticRegression(class_weight='balanced', max_iter=1000))])"
      ]
     },
     "execution_count": 7,
     "metadata": {},
     "output_type": "execute_result"
    }
   ],
   "source": [
    "#now I need to fit the model to the training data\n",
    "pipeline.fit(X_train, y_train)"
   ]
  },
  {
   "cell_type": "markdown",
   "id": "f0e1633f",
   "metadata": {},
   "source": [
    "### Understanding `pipeline.fit(X_train, y_train)`\n",
    "\n",
    "When you call `pipeline.fit(X_train, y_train)`, scikit-learn runs each step of the pipeline in order:\n",
    "\n",
    "1. **Preprocessing Step (`preprocessor`)**  \n",
    "   - Numeric columns → scaled using `StandardScaler()` (mean = 0, std = 1).  \n",
    "   - Categorical columns → encoded using `OneHotEncoder()` (creates binary columns for categories).  \n",
    "   - Any columns not specified remain unchanged (`remainder='passthrough'`).  \n",
    "   - The preprocessor *learns* from the training data (e.g., category values, scaling parameters).\n",
    "\n",
    "2. **Model Training Step (`LogisticRegression`)**  \n",
    "   - The transformed training data is passed into the logistic regression model.  \n",
    "   - The model learns patterns between features (`X_train`) and the target (`y_train`).  \n",
    "   - Using `class_weight='balanced'` tells the model to adjust for class imbalance by giving more weight to underrepresented classes.  \n",
    "\n",
    "---\n",
    "\n",
    "### Why use a Pipeline?\n",
    "- **Prevents data leakage**: Preprocessing is learned only from training data and applied consistently to new/test data.  \n",
    "- **Cleaner code**: One object handles all steps instead of writing them separately.  \n",
    "- **Consistency**: Guarantees that the same transformations are applied during training and prediction.\n",
    "\n",
    "---\n",
    "\n",
    "✅ **In short:**  \n",
    "`pipeline.fit(X_train, y_train)` means *“fit the preprocessing steps on the training data, transform it, and then train the logistic regression model on the processed data.”*\n"
   ]
  },
  {
   "cell_type": "markdown",
   "id": "b1295cdb",
   "metadata": {},
   "source": [
    "5.) Evaluate"
   ]
  },
  {
   "cell_type": "markdown",
   "id": "4d187d9d",
   "metadata": {},
   "source": [
    "## 📊 Model Evaluation Checklist\n",
    "\n",
    "1. **Predict on `X_test` and compute metrics**  \n",
    "   - Accuracy, Precision, Recall, F1-score, ROC AUC, and Confusion Matrix. ✅  \n",
    "\n",
    "2. **Inspect predicted probabilities**  \n",
    "   - Evaluate probability outputs (via `predict_proba`).  \n",
    "   - Consider **threshold tuning** if the key business metric is not default accuracy. ✅  \n",
    "\n",
    "3. **Interpret model coefficients**  \n",
    "   - Use `preprocessor.get_feature_names_out()` to align coefficients with feature names.  \n",
    "   - Analyze direction (+/-) and relative importance of features. ✅  \n",
    "\n",
    "4. **Cross-validation / Hyperparameter tuning**  \n",
    "   - Run Stratified K-Fold or `GridSearchCV` for robust tuning.  \n",
    "   - Confirm stability of results across folds. ✅  \n",
    "\n",
    "5. **Check calibration and precision-recall**  \n",
    "   - Use calibration plots (e.g., `CalibrationDisplay`).  \n",
    "   - Precision-Recall curves are especially important for imbalanced datasets. ✅  \n",
    "\n",
    "6. **Save the pipeline for reuse**  \n",
    "   - Store the full pipeline (preprocessing + model) with `joblib.dump()`.  \n",
    "   - Reload later with `joblib.load()` for deployment or further evaluation. ✅  \n"
   ]
  },
  {
   "cell_type": "code",
   "execution_count": 8,
   "id": "843cc3eb",
   "metadata": {},
   "outputs": [
    {
     "name": "stdout",
     "output_type": "stream",
     "text": [
      "Accuracy: 0.7346\n",
      "Precision: 0.2628\n",
      "Recall: 0.7059\n",
      "F1 Score: 0.3830\n",
      "ROC AUC: 0.7651\n",
      "Confusion Matrix:\n",
      "[[5130 1818]\n",
      " [ 270  648]]\n"
     ]
    }
   ],
   "source": [
    "#Now we can make predictions on the test set\n",
    "y_pred = pipeline.predict(X_test)\n",
    "y_pred_proba = pipeline.predict_proba(X_test)[:,1]  # Probability estimates for the positive class\n",
    "\n",
    "#From the above,  lets computer metrics to evaluate the model\n",
    "from sklearn.metrics import accuracy_score, precision_score, recall_score, f1_score, roc_auc_score, confusion_matrix\n",
    "accuracy = accuracy_score(y_test, y_pred)\n",
    "precision = precision_score(y_test, y_pred)\n",
    "recall = recall_score(y_test, y_pred)\n",
    "f1 = f1_score(y_test, y_pred)\n",
    "roc_auc = roc_auc_score(y_test, y_pred_proba)   \n",
    "conf_matrix = confusion_matrix(y_test, y_pred)\n",
    "\n",
    "print(f'Accuracy: {accuracy:.4f}')\n",
    "print(f'Precision: {precision:.4f}')\n",
    "print(f'Recall: {recall:.4f}')\n",
    "print(f'F1 Score: {f1:.4f}')\n",
    "print(f'ROC AUC: {roc_auc:.4f}')\n",
    "print('Confusion Matrix:')\n",
    "print(conf_matrix)"
   ]
  },
  {
   "cell_type": "markdown",
   "id": "0185e2a3",
   "metadata": {},
   "source": [
    "# Model Performance Summary\n",
    "\n",
    "## 🔹 Metrics\n",
    "- **Accuracy (73.46%)**  \n",
    "  About three-quarters of predictions are correct.  \n",
    "  ⚠️ Can be misleading if classes are imbalanced.\n",
    "\n",
    "- **Precision (26.28%)**  \n",
    "  Only 26% of predicted positives are actually positive.  \n",
    "  → Many **false positives**.\n",
    "\n",
    "- **Recall (70.59%)**  \n",
    "  Model correctly identifies ~71% of all real positives.  \n",
    "  → High **true positive detection**.\n",
    "\n",
    "- **F1 Score (38.30%)**  \n",
    "  Low because precision is poor, even though recall is good.\n",
    "\n",
    "- **ROC AUC (0.7651)**  \n",
    "  Model ranks positives vs. negatives fairly well across thresholds.\n",
    "\n",
    "---\n",
    "\n",
    "## 🔹 Confusion Matrix\n"
   ]
  },
  {
   "cell_type": "markdown",
   "id": "5b9ce722",
   "metadata": {},
   "source": [
    "- **True Negatives (TN): 5130**  \n",
    "- **False Positives (FP): 1818** → Main issue.  (Model predicted \"yes\" but the customer actually said no.)\n",
    "- **False Negatives (FN): 270**  \n",
    "- **True Positives (TP): 648**  \n",
    "\n",
    "---\n",
    "\n",
    "## 🔹 Interpretation\n",
    "- The model is **recall-oriented**:\n",
    "  - Finds most positives (**good recall**).  \n",
    "  - Mislabels many negatives as positives (**poor precision**).  \n",
    "\n",
    "- **When this is good**: medical screening, fraud detection, AML → better to flag too many than miss true cases.  \n",
    "- **When this is bad**: spam filters, recommendation systems → too many false alarms.\n",
    "\n",
    "---\n",
    "\n",
    "## 🔹 Next Steps\n",
    "The threshold gave me high recall but low precision.\n",
    "\n",
    "Next step: experiment with different thresholds to see how precision/recall trade off.\n",
    "\n",
    "---\n",
    "\n",
    "✅ **Summary**:  \n",
    "My model **catches most positives but at the cost of many false alarms**.  \n"
   ]
  },
  {
   "cell_type": "markdown",
   "id": "493040ca",
   "metadata": {},
   "source": [
    "## 🔑 What is the Threshold?\n",
    "\n",
    "### 1) Model outputs probabilities, not just Yes/No\n",
    "- Logistic Regression predicts a **probability between 0 and 1** for each client.  \n",
    "  - Example: \"This customer has a 0.72 probability of subscribing.\"\n",
    "\n",
    "### 2) Threshold = cutoff for decision\n",
    "- If **probability ≥ threshold → predict Yes (subscribe)**  \n",
    "- If **probability < threshold → predict No (not subscribe)**  \n",
    "\n",
    "---\n",
    "\n",
    "## 📊 Default threshold (0.5)\n",
    "- Standard cutoff = **0.5**  \n",
    "- Only customers with ≥50% probability are classified as \"Yes.\"  \n",
    "- Conservative approach → higher precision, but may miss some actual subscribers (lower recall).\n",
    "\n",
    "---\n",
    "\n",
    "## 🎯 Lowering the threshold (e.g., 0.3)\n",
    "- At threshold = 0.3:  \n",
    "  - Customers with ≥30% probability are classified as \"Yes.\"  \n",
    "  - **More positives are flagged** → recall increases.  \n",
    "  - **But** more uninterested customers are also flagged → precision decreases.\n",
    "\n",
    "---\n",
    "\n",
    "## ⚖️ Why this matters in Bank Marketing\n",
    "- **False Positives (FP):** extra marketing calls → minor cost.  \n",
    "- **False Negatives (FN):** lost subscribers → lost revenue.  \n",
    "\n",
    "Since FNs are more harmful, **recall is prioritized over precision**.  \n",
    "→ Lowering the threshold helps capture more actual subscribers, even if it means more wasted calls.\n",
    "\n",
    "---\n",
    "\n",
    "## ✅ Summary\n",
    "- **Threshold** = probability cutoff for predicting Yes vs No.  \n",
    "- **Higher threshold** → fewer positives, higher precision, lower recall.  \n",
    "- **Lower threshold** → more positives, higher recall, lower precision.  \n",
    "- In this project: lowering the threshold (0.3 vs 0.5) boosts recall, which is more important for the bank.\n"
   ]
  },
  {
   "cell_type": "code",
   "execution_count": 9,
   "id": "2500aae8",
   "metadata": {},
   "outputs": [
    {
     "data": {
      "image/png": "[encoded data removed]",
      "text/plain": [
       "<Figure size 800x600 with 1 Axes>"
      ]
     },
     "metadata": {},
     "output_type": "display_data"
    }
   ],
   "source": [
    "#time to adjust the classification threshold\n",
    "import numpy as np\n",
    "import matplotlib.pyplot as plt\n",
    "# --- IGNORE ---\n",
    "# Calculate precision and recall for different thresholds\n",
    "from sklearn.metrics import precision_recall_curve\n",
    "precision_vals, recall_vals, thresholds = precision_recall_curve(y_test, y_pred_proba)\n",
    "\n",
    "# Plot precision-recall curve\n",
    "plt.figure(figsize=(8, 6))\n",
    "plt.plot(recall_vals, precision_vals, marker = '.')\n",
    "plt.xlabel('Recall')\n",
    "plt.ylabel('Precision')\n",
    "\n",
    "plt.title('Precision-Recall Curve')\n",
    "plt.grid()"
   ]
  },
  {
   "cell_type": "markdown",
   "id": "9170a1d9",
   "metadata": {},
   "source": [
    "# Precision vs Recall in the Bank Marketing Project\n",
    "\n",
    "## 🔹 Precision\n",
    "- Precision = Of all the customers the model predicts will subscribe, how many actually do?\n",
    "- High precision means fewer wasted marketing calls (fewer false positives).\n",
    "- Low precision means many customers predicted as subscribers won’t actually subscribe.\n",
    "\n",
    "## 🔹 Recall\n",
    "- Recall = Of all the customers who actually subscribe, how many did the model correctly identify?\n",
    "- High recall means the model captures most potential subscribers (few false negatives).\n",
    "- Low recall means the bank misses many customers who would have subscribed.\n",
    "\n",
    "---\n",
    "\n",
    "## 🔹 Which Matters More Here?\n",
    "For the bank marketing problem:\n",
    "- **False Positives (FP):** Wasted calls/resources, but the bank simply spends a little extra time contacting uninterested customers.\n",
    "- **False Negatives (FN):** Lost revenue opportunities, because the bank fails to contact a customer who would have subscribed.\n",
    "\n",
    "Since **missing actual subscribers (FN)** is worse than calling uninterested ones (FP), **recall is more important than precision** for this project.\n",
    "\n",
    "---\n",
    "\n",
    "## 🔹 Next Step: Threshold Adjustment\n",
    "- By default, Logistic Regression uses a **0.5 threshold**: predict \"yes\" if probability ≥ 0.5.\n",
    "- At 0.5, the model has **moderate recall (~71%) but low precision (~26%)**.\n",
    "- To **increase recall further**, the next step is to **lower the threshold to 0.3**:\n",
    "  - This makes the model more \"generous\" in predicting positives.\n",
    "  - More actual subscribers will be caught (higher recall).\n",
    "  - Precision will likely decrease, but that trade-off is acceptable here.\n",
    "\n",
    "---\n",
    "\n",
    "✅ **Summary**:  \n",
    "In this project, recall is the priority. The next step is to compare performance at **threshold = 0.3 vs threshold = 0.5** to maximize recall while monitoring precision. This ensures the model finds as many potential subscribers as possible, even if it means contacting more uninterested customers.\n"
   ]
  },
  {
   "cell_type": "code",
   "execution_count": 10,
   "id": "a509dad7",
   "metadata": {},
   "outputs": [
    {
     "name": "stdout",
     "output_type": "stream",
     "text": [
      "Optimal Threshold: 0.3\n",
      "Accuracy: 0.4892\n",
      "Precision: 0.1607\n",
      "Recall: 0.7996\n",
      "F1 Score: 0.2676\n",
      "ROC AUC: 0.7651\n",
      "Confusion Matrix:\n",
      "[[3114 3834]\n",
      " [ 184  734]]\n"
     ]
    }
   ],
   "source": [
    "#Let's lower the threshold from 0.5 to 0.3 to increase recall\n",
    "optimal_threshold = 0.3\n",
    "y_pred_optimal = (y_pred_proba >= optimal_threshold).astype(int) #this line creates a new array of predictions based on the optimal threshold\n",
    "\n",
    "\n",
    "#Now let's comput the metrics again with the new threshold\n",
    "accuracy_optimal = accuracy_score(y_test, y_pred_optimal)\n",
    "precision_optimal = precision_score(y_test, y_pred_optimal)\n",
    "recall_optimal = recall_score(y_test, y_pred_optimal)\n",
    "f1_optimal = f1_score (y_test, y_pred_optimal)\n",
    "roc_auc_optimal = roc_auc_score(y_test, y_pred_proba)\n",
    "conf_matrix_optimal = confusion_matrix(y_test, y_pred_optimal)\n",
    "\n",
    "print(f'Optimal Threshold: {optimal_threshold}')\n",
    "print(f'Accuracy: {accuracy_optimal:.4f}')\n",
    "print(f'Precision: {precision_optimal:.4f}')\n",
    "print(f'Recall: {recall_optimal:.4f}')\n",
    "print(f'F1 Score: {f1_optimal:.4f}')\n",
    "print(f'ROC AUC: {roc_auc_optimal:.4f}')\n",
    "print('Confusion Matrix:')\n",
    "print(conf_matrix_optimal)"
   ]
  },
  {
   "cell_type": "markdown",
   "id": "95a7b3ea",
   "metadata": {},
   "source": [
    "### Model Summary — Threshold = **0.3**\n",
    "- **Accuracy:** 0.4892  \n",
    "- **Precision:** 0.1607  \n",
    "- **Recall:** **0.7996**  \n",
    "- **F1 Score:** 0.2676  \n",
    "- **ROC AUC (thr-invariant):** 0.7651  \n",
    "\n",
    "**Confusion Matrix (T=0.3)**  \n",
    "- TN: 3114 | FP: 3834  \n",
    "- FN: 184  | TP: 734  \n",
    "\n",
    "**TL;DR:** Lowering the threshold increased **recall** (fewer false negatives) at the cost of **precision** and **accuracy**—expected for a recall-focused setting.\n",
    "\"\"\"))"
   ]
  },
  {
   "cell_type": "code",
   "execution_count": 11,
   "id": "c519e356",
   "metadata": {},
   "outputs": [
    {
     "name": "stdout",
     "output_type": "stream",
     "text": [
      "Top 3 positive coefficients:\n",
      "               Feature  Coefficient\n",
      "  cat__prior_contact_1     1.123577\n",
      "cat__campaign_capped_1     0.165233\n",
      "        num__euribor3m     0.161067\n",
      "\n",
      "Top 3 negative coefficients:\n",
      "             Feature  Coefficient\n",
      "cat__prior_contact_0    -0.832709\n",
      "   num__emp.var.rate    -0.542067\n",
      "    num__nr.employed    -0.538288\n"
     ]
    }
   ],
   "source": [
    "#Lets now map coefficients back to feature names\n",
    "#Get feature names after preprocessing\n",
    "feature_names = pipeline.named_steps['preprocessor'].get_feature_names_out()\n",
    "#Get coefficients from the logistic regression model\n",
    "coefficients = pipeline.named_steps['clf'].coef_[0]\n",
    "\n",
    "# Create a DataFrame to display feature names and their corresponding coefficients\n",
    "coeff = pd.DataFrame({\n",
    "    'Feature': feature_names,\n",
    "    'Coefficient': coefficients\n",
    "})\n",
    "\n",
    "# Sort the DataFrame by absolute value of coefficients in descending order\n",
    "coeff['Abs_Coefficient'] = coeff['Coefficient'].abs()\n",
    "coeff = coeff.sort_values(by = 'Abs_Coefficient', ascending=False).drop(columns=['Abs_Coefficient'])\n",
    "\n",
    "\n",
    "# show top 3 positive and top 3 negative coefficients\n",
    "top_pos = coeff.sort_values(by='Coefficient', ascending=False).head(3)\n",
    "top_neg = coeff.sort_values(by='Coefficient', ascending=True).head(3)\n",
    "\n",
    "print(\"Top 3 positive coefficients:\")\n",
    "print(top_pos.to_string(index=False))\n",
    "print(\"\\nTop 3 negative coefficients:\")\n",
    "print(top_neg.to_string(index=False))\n"
   ]
  },
  {
   "cell_type": "markdown",
   "id": "6281ad4b",
   "metadata": {},
   "source": [
    "**Interpretation**\n",
    "- Prior contact is the strongest signal: customers with prior contact are most likely to convert.\n",
    "- Macro indicators (`emp.var.rate`, `nr.employed`) are negatively associated with conversion in this sample.\n",
    "- `euribor3m` and some `campaign_capped` levels have small positive associations.\n"
   ]
  },
  {
   "cell_type": "code",
   "execution_count": 12,
   "id": "a63a6e84",
   "metadata": {},
   "outputs": [
    {
     "data": {
      "image/png": "[encoded data removed]",
      "text/plain": [
       "<Figure size 1000x500 with 1 Axes>"
      ]
     },
     "metadata": {},
     "output_type": "display_data"
    },
    {
     "data": {
      "image/png": "[encoded data removed]",
      "text/plain": [
       "<Figure size 1000x500 with 1 Axes>"
      ]
     },
     "metadata": {},
     "output_type": "display_data"
    }
   ],
   "source": [
    "#Lets take a look at how emp.var.rate and nr.employed are related to the target variable\n",
    "import seaborn as sns\n",
    "\n",
    "# Plotting the relationship between emp.var.rate and the target variable y\n",
    "plt.figure(figsize=(10, 5))\n",
    "sns.boxplot(x='y', y='emp.var.rate', data=df)\n",
    "plt.title('emp.var.rate by Target Variable (y)')\n",
    "plt.show()\n",
    "\n",
    "# Plotting the relationship between nr.employed and the target variable y\n",
    "plt.figure(figsize=(10, 5))\n",
    "sns.boxplot(x='y', y='nr.employed', data=df)\n",
    "plt.title('nr.employed by Target Variable (y)')\n",
    "plt.show()\n",
    "\n"
   ]
  },
  {
   "cell_type": "markdown",
   "id": "73d0105e",
   "metadata": {},
   "source": [
    "- **What `y` means:** `y=1` = converted, `y=0` = did not convert.\n",
    "\n",
    "- **emp.var.rate**\n",
    "  - The **converted group (y=1)** sits **lower** on the boxplot than the non-converted group.\n",
    "  - Translation: **higher** `emp.var.rate` values tend to be linked with **lower** conversion on average.\n",
    "  - There’s overlap between groups, so treat it as a trend, not a rule.\n",
    "  -When emp.var.rate is higher/positive (employment growing → “good times”), conversion tends to go down.\n",
    "  -When emp.var.rate is lower/negative (employment shrinking → “worse times”), conversion tends to go up—people park money in safer term deposits.\n",
    "\n",
    "- **nr.employed**\n",
    "  - The **converted group (y=1)** also shows **lower** values than the non-converted group.\n",
    "  - Translation: when `nr.employed` is **higher**, conversion is **less likely** on average.\n",
    "  - Again, distributions overlap—likely a modest effect.\n",
    "  -when overall employment is higher (good economy), term-deposit conversion tends to be lower; when employment is lower (worse economy), conversions tend to be higher.\n",
    "\n",
    "**Why it matters:** Both visuals support the **negative coefficients** for these variables in your logistic regression.\n",
    "\n"
   ]
  },
  {
   "cell_type": "code",
   "execution_count": 13,
   "id": "c457a7f4",
   "metadata": {},
   "outputs": [
    {
     "name": "stdout",
     "output_type": "stream",
     "text": [
      "Cross-validated ROC AUC scores: [0.13597062 0.1915039  0.67928602 0.52032538 0.4207247 ]\n",
      "Mean ROC AUC score: 0.3896\n"
     ]
    }
   ],
   "source": [
    "#Next step is to do a cross-validation to ensure the model is robust and not overfitting\n",
    "from sklearn.model_selection import cross_val_score\n",
    "# Perform cross-validation\n",
    "\n",
    "cv_scores = cross_val_score(pipeline, X, y, cv = 5, scoring = 'roc_auc')  # 5-fold cross-validation\n",
    "print(f'Cross-validated ROC AUC scores: {cv_scores}')\n",
    "print(f'Mean ROC AUC score: {np.mean(cv_scores):.4f}')\n"
   ]
  },
  {
   "cell_type": "markdown",
   "id": "aa59f23d",
   "metadata": {},
   "source": [
    "### What This Means\n",
    "\n",
    "1. **Low Overall Performance**\n",
    "   - Mean ROC AUC = **0.39**, which is **worse than random guessing (0.5)**.\n",
    "   - Suggests the model isn’t learning meaningful signal from the data.\n",
    "\n",
    "2. **High Variability Across Folds**\n",
    "   - Scores range from **0.13 → 0.68**.\n",
    "   - Indicates instability:\n",
    "     - Dataset may be small or **highly imbalanced**.\n",
    "     - Certain folds contain patterns the model can fit, while others don’t generalize.\n",
    "\n",
    "3. **Possible Overfitting or Data Issues**\n",
    "    -I believe the reason is the data is highly imbalanced, most all customers say no.\n",
    "    -Consider stratified cross-validation\n",
    "    -Cross-validation (CV) is a technique to evaluate model performance more reliably by splitting the dataset into multiple “folds” and training/testing across them.\n"
   ]
  },
  {
   "cell_type": "code",
   "execution_count": 14,
   "id": "a5148b26",
   "metadata": {},
   "outputs": [
    {
     "name": "stdout",
     "output_type": "stream",
     "text": [
      "Stratified CV ROC AUC: [0.75398886 0.75547347 0.74659402 0.76851311 0.76573946]\n",
      "Mean: 0.7581\n"
     ]
    }
   ],
   "source": [
    "# To deal with the imbalanced dataset, we can use stratified cross-validation\n",
    "from sklearn.model_selection import StratifiedKFold, cross_val_score\n",
    "\n",
    "cv = StratifiedKFold(n_splits=5, shuffle=True, random_state=42)\n",
    "cv_scores = cross_val_score(pipeline, X, y, cv=cv, scoring='roc_auc')\n",
    "print(f\"Stratified CV ROC AUC: {cv_scores}\")\n",
    "print(f\"Mean: {cv_scores.mean():.4f}\")\n",
    "\n"
   ]
  },
  {
   "cell_type": "markdown",
   "id": "90da458a",
   "metadata": {},
   "source": [
    "### Cross-Validation Summary\n",
    "\n",
    "- **What I Did**\n",
    "  - Switched from regular K-Fold to **Stratified K-Fold Cross-Validation** to deal with the imbalanced dataset.\n",
    "  - This ensured each fold had a similar ratio of converters (`y=1`) to non-converters (`y=0`).\n",
    "\n",
    "- **Results**\n",
    "  - **ROC AUC per fold:** [0.754, 0.755, 0.747, 0.769, 0.766]\n",
    "  - **Mean ROC AUC:** 0.758\n",
    "\n",
    "- **Why It Matters**\n",
    "  - Before: Regular CV gave unstable scores (0.13 → 0.68) with a mean of 0.39, showing unreliable performance.\n",
    "  - After stratification: Scores are consistent (~0.75–0.77) and the mean jumped to **0.76**.\n",
    "  - AUC ~0.76 means the model can correctly rank a random converter above a random non-converter ~76% of the time.\n",
    "\n",
    "✅ **Key Takeaway:**  \n",
    "Stratified cross-validation fixed instability from class imbalance and showed the model is **robust, consistent, and genuinely learning useful patterns.**\n"
   ]
  },
  {
   "cell_type": "code",
   "execution_count": 15,
   "id": "5a873225",
   "metadata": {},
   "outputs": [
    {
     "data": {
      "text/plain": [
       "['logistic_regression_pipeline.joblib']"
      ]
     },
     "execution_count": 15,
     "metadata": {},
     "output_type": "execute_result"
    }
   ],
   "source": [
    "#Save pipeline model using joblib\n",
    "import joblib\n",
    "joblib.dump(pipeline, 'logistic_regression_pipeline.joblib', compress=3)"
   ]
  }
 ],
 "metadata": {
  "kernelspec": {
   "display_name": "base",
   "language": "python",
   "name": "python3"
  },
  "language_info": {
   "codemirror_mode": {
    "name": "ipython",
    "version": 3
   },
   "file_extension": ".py",
   "mimetype": "text/x-python",
   "name": "python",
   "nbconvert_exporter": "python",
   "pygments_lexer": "ipython3",
   "version": "3.11.7"
  }
 },
 "nbformat": 4,
 "nbformat_minor": 5
}
