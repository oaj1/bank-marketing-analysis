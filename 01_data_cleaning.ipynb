{
 "cells": [
  {
   "cell_type": "code",
   "execution_count": 60,
   "id": "3a20310c",
   "metadata": {},
   "outputs": [],
   "source": [
    "# 1. Import libraries and load data\n",
    "import pandas as pd\n",
    "\n",
    "df = pd.read_csv('bank-additional-full.csv', sep=';')"
   ]
  },
  {
   "cell_type": "code",
   "execution_count": 61,
   "id": "37940877",
   "metadata": {},
   "outputs": [
    {
     "name": "stdout",
     "output_type": "stream",
     "text": [
      "Columns with unknown values:\n",
      "job           330\n",
      "marital        80\n",
      "education    1731\n",
      "default      8597\n",
      "housing       990\n",
      "loan          990\n",
      "dtype: int64\n"
     ]
    }
   ],
   "source": [
    "#Now to handle unspecified values, we will replace them with NaN\n",
    "df.replace('unknown', pd.NA, inplace=True)\n",
    "\n",
    "#lets figure out which columns have unknown values and how many\n",
    "unknown_values = df.isna().sum()\n",
    "unknown_values = unknown_values[unknown_values > 0]\n",
    "print(\"Columns with unknown values:\")\n",
    "print(unknown_values)\n"
   ]
  },
  {
   "cell_type": "code",
   "execution_count": 62,
   "id": "0b45b910",
   "metadata": {},
   "outputs": [
    {
     "name": "stdout",
     "output_type": "stream",
     "text": [
      "Number of outliers in campaign: 2406\n",
      "Number of outliers in duration: 2963\n",
      "\n",
      "\n",
      "Number after removing campaign outliers: 38782\n",
      "Number after removing duration outliers: 38225\n"
     ]
    }
   ],
   "source": [
    "#Time to handle data outliers, we will use the IQR method\n",
    "# 2. Function to remove outliers using IQR method, but I will only remove outliers from the 'campaign' column for now\n",
    "def remove_outliers_iqr(df, column):\n",
    "    Q1 = df[column].quantile(0.25)\n",
    "    Q3 = df[column].quantile(0.75)\n",
    "    IQR = Q3 - Q1\n",
    "    lower_bound = Q1 - 1.5 * IQR\n",
    "    upper_bound = Q3 + 1.5 * IQR\n",
    "    outliers = df[(df[column] < lower_bound) | (df[column] > upper_bound)]\n",
    "    return outliers, lower_bound, upper_bound\n",
    "\n",
    "\n",
    "#Detect outliers in 'campaign'\n",
    "outliers_campaign, low_camp, up_camp = remove_outliers_iqr(df, 'campaign')\n",
    "print(f'Number of outliers in campaign: {len(outliers_campaign)}')\n",
    "\n",
    "#Detect outliers in 'duration'\n",
    "outliers_campaign, low_camp, up_camp = remove_outliers_iqr(df, 'duration')\n",
    "print(f'Number of outliers in duration: {len(outliers_campaign)}')\n",
    "\n",
    "print()\n",
    "print()\n",
    "\n",
    "# Remove outliers from the dataframe based on 'campaign' column\n",
    "outliers_campaign, low_camp, up_camp = remove_outliers_iqr(df, 'campaign')\n",
    "df_no_outliers = df[(df['campaign'] >= low_camp) & (df['campaign'] <= up_camp)]\n",
    "print(f'Number after removing campaign outliers: {len(df_no_outliers)}')\n",
    "\n",
    "\n",
    "# Remove outliers from the dataframe based on 'duration' column\n",
    "outliers_campaign, low_camp, up_camp = remove_outliers_iqr(df, 'duration')\n",
    "df_no_outliers = df[(df['duration'] >= low_camp) & (df['duration'] <= up_camp)]\n",
    "print(f'Number after removing duration outliers: {len(df_no_outliers)}')\n",
    "\n"
   ]
  },
  {
   "cell_type": "code",
   "execution_count": 63,
   "id": "32e48639",
   "metadata": {},
   "outputs": [],
   "source": [
    "#make a new column to indicate if the client has been contacted before\n",
    "#pdays = number of days since the client was last contacted, 999 means the client has not been contacted before\n",
    "#so we will create a new column 'prior_contact' where 0 means no prior contact\n",
    "df['prior_contact'] = df['pdays'].apply(lambda x: 0 if x == 999 else 1)\n",
    "\n"
   ]
  },
  {
   "cell_type": "code",
   "execution_count": 64,
   "id": "0b2f5768",
   "metadata": {},
   "outputs": [
    {
     "name": "stdout",
     "output_type": "stream",
     "text": [
      "Columns in df:\n",
      "Index(['age', 'job', 'marital', 'education', 'default', 'housing', 'loan',\n",
      "       'contact', 'month', 'day_of_week', 'duration', 'campaign', 'pdays',\n",
      "       'previous', 'poutcome', 'emp.var.rate', 'cons.price.idx',\n",
      "       'cons.conf.idx', 'euribor3m', 'nr.employed', 'y', 'prior_contact'],\n",
      "      dtype='object')\n"
     ]
    }
   ],
   "source": [
    "#lets look at all columns in df\n",
    "print(\"Columns in df:\")\n",
    "print(df.columns)"
   ]
  },
  {
   "cell_type": "code",
   "execution_count": 65,
   "id": "2e3d04c9",
   "metadata": {},
   "outputs": [
    {
     "name": "stdout",
     "output_type": "stream",
     "text": [
      "   pdays  prior_contact\n",
      "0    999              0\n",
      "1    999              0\n",
      "2    999              0\n",
      "3    999              0\n",
      "4    999              0\n"
     ]
    }
   ],
   "source": [
    "#print head for prior_contact\n",
    "print(df[['pdays', 'prior_contact']].head())"
   ]
  },
  {
   "cell_type": "code",
   "execution_count": 66,
   "id": "d56a2310",
   "metadata": {},
   "outputs": [
    {
     "name": "stdout",
     "output_type": "stream",
     "text": [
      "Columns after removing pdays:\n",
      "Index(['age', 'job', 'marital', 'education', 'default', 'housing', 'loan',\n",
      "       'contact', 'month', 'day_of_week', 'duration', 'campaign', 'previous',\n",
      "       'poutcome', 'emp.var.rate', 'cons.price.idx', 'cons.conf.idx',\n",
      "       'euribor3m', 'nr.employed', 'y', 'prior_contact'],\n",
      "      dtype='object')\n",
      "pdays column removed, prior_contact column created\n"
     ]
    }
   ],
   "source": [
    "#lets drop the 'pdays' column\n",
    "#we will keep the 'prior_contact' column    \n",
    "df.drop(columns=['pdays'], inplace=True)\n",
    "print(\"Columns after removing pdays:\")\n",
    "print(df.columns)\n",
    "print('pdays column removed, prior_contact column created')"
   ]
  }
 ],
 "metadata": {
  "kernelspec": {
   "display_name": "Python 3",
   "language": "python",
   "name": "python3"
  },
  "language_info": {
   "codemirror_mode": {
    "name": "ipython",
    "version": 3
   },
   "file_extension": ".py",
   "mimetype": "text/x-python",
   "name": "python",
   "nbconvert_exporter": "python",
   "pygments_lexer": "ipython3",
   "version": "3.9.13"
  }
 },
 "nbformat": 4,
 "nbformat_minor": 5
}
