{
 "cells": [
  {
   "cell_type": "code",
   "execution_count": 148,
   "id": "3a20310c",
   "metadata": {},
   "outputs": [],
   "source": [
    "# 1. Import libraries and load data\n",
    "import pandas as pd\n",
    "\n",
    "df = pd.read_csv('bank-additional-full.csv', sep=';')"
   ]
  },
  {
   "cell_type": "code",
   "execution_count": 149,
   "id": "37940877",
   "metadata": {},
   "outputs": [
    {
     "name": "stdout",
     "output_type": "stream",
     "text": [
      "Columns with 'unknown' values:\n",
      "job           330\n",
      "marital        80\n",
      "education    1731\n",
      "default      8597\n",
      "housing       990\n",
      "loan          990\n",
      "dtype: int64\n"
     ]
    }
   ],
   "source": [
    "# Count 'unknown' values in each column BEFORE replacement\n",
    "unknown_counts = (df == 'unknown').sum()\n",
    "unknown_counts = unknown_counts[unknown_counts > 0]\n",
    "print(\"Columns with 'unknown' values:\")\n",
    "print(unknown_counts)\n",
    "\n"
   ]
  },
  {
   "cell_type": "markdown",
   "id": "3ac94604",
   "metadata": {},
   "source": [
    "Best practice:\n",
    "\n",
    "Treat \"unknown\" as its own category for job, marital, education, default, housing, and loan.\n",
    "Do not drop these rows or try to impute with the mode or another value unless you have a strong reason."
   ]
  },
  {
   "cell_type": "code",
   "execution_count": 150,
   "id": "ecd2b08f",
   "metadata": {},
   "outputs": [
    {
     "name": "stdout",
     "output_type": "stream",
     "text": [
      "New 'prior_contact' column added to df, indicating if the client has been contacted before.\n"
     ]
    }
   ],
   "source": [
    "#make a new column to indicate if the client has been contacted before\n",
    "#pdays = number of days since the client was last contacted, 999 means the client has not been contacted before\n",
    "#so we will create a new column 'prior_contact' where 0 means no prior contact\n",
    "df['prior_contact'] = df['pdays'].apply(lambda x: 0 if x == 999 else 1)\n",
    "\n",
    "print(\"New 'prior_contact' column added to df, indicating if the client has been contacted before.\")\n"
   ]
  },
  {
   "cell_type": "code",
   "execution_count": 151,
   "id": "e31ebfd6",
   "metadata": {},
   "outputs": [
    {
     "name": "stdout",
     "output_type": "stream",
     "text": [
      "Descriptive statistics for 'campaign':\n",
      "count    41188.000000\n",
      "mean         2.567593\n",
      "std          2.770014\n",
      "min          1.000000\n",
      "25%          1.000000\n",
      "50%          2.000000\n",
      "75%          3.000000\n",
      "max         56.000000\n",
      "Name: campaign, dtype: float64\n",
      "we see most are between 1 and 3, with a few outliers up to 50.\n",
      "\n",
      "Descriptive statistics for 'campaign_capped':\n",
      "count    41188.000000\n",
      "mean         2.275274\n",
      "std          1.550510\n",
      "min          1.000000\n",
      "25%          1.000000\n",
      "50%          2.000000\n",
      "75%          3.000000\n",
      "max          6.000000\n",
      "Name: campaign_capped, dtype: float64\n"
     ]
    }
   ],
   "source": [
    "# Descriptive statistics for 'campaign'\n",
    "print(\"Descriptive statistics for 'campaign':\")\n",
    "print(df['campaign'].describe())\n",
    "\n",
    "\n",
    "\n",
    "print((\"we see most are between 1 and 3, with a few outliers up to 50.\"))\n",
    "# Cap campaign at 6\n",
    "df['campaign_capped'] = df['campaign'].clip(upper=6)\n",
    "\n",
    "# Descriptive statistics for 'campaign_capped'\n",
    "print(\"\\nDescriptive statistics for 'campaign_capped':\")\n",
    "print(df['campaign_capped'].describe())"
   ]
  },
  {
   "cell_type": "code",
   "execution_count": 152,
   "id": "0b45b910",
   "metadata": {},
   "outputs": [
    {
     "name": "stdout",
     "output_type": "stream",
     "text": [
      "\n",
      "Removing the original 'campaign' column.\n",
      "Original 'campaign' column removed.\n",
      "New 'campaign_capped' column added with values capped at 6.\n"
     ]
    }
   ],
   "source": [
    "#Time to handle data outliers, we will drop the original 'campaign' column\n",
    "print(\"\\nRemoving the original 'campaign' column.\")\n",
    "df.drop(columns=['campaign'], inplace=True)\n",
    "print(\"Original 'campaign' column removed.\")\n",
    "print(\"New 'campaign_capped' column added with values capped at 6.\")\n"
   ]
  },
  {
   "cell_type": "code",
   "execution_count": 153,
   "id": "5c3d5274",
   "metadata": {},
   "outputs": [
    {
     "name": "stdout",
     "output_type": "stream",
     "text": [
      "dropped duration column from df.\n"
     ]
    }
   ],
   "source": [
    "#drop duration column\n",
    "# If the 'duration' column exists, drop it; otherwise, print a message\n",
    "#dropped because it is not useful for analysis and can skew results, occurs after the last contact with the client\n",
    "if 'duration' in df.columns:\n",
    "\tdf.drop(columns=['duration'], inplace=True)\n",
    "\tprint('dropped duration column from df.')\n",
    "else:\n",
    "\tprint(\"'duration' column not found in df.\")"
   ]
  },
  {
   "cell_type": "code",
   "execution_count": 154,
   "id": "32e48639",
   "metadata": {},
   "outputs": [
    {
     "name": "stdout",
     "output_type": "stream",
     "text": [
      "New 'prior_contact' column added to df, indicating if the client has been contacted before.\n"
     ]
    }
   ],
   "source": [
    "#make a new column to indicate if the client has been contacted before\n",
    "#pdays = number of days since the client was last contacted, 999 means the client has not been contacted before\n",
    "#so we will create a new column 'prior_contact' where 0 means no prior contact\n",
    "df['prior_contact'] = df['pdays'].apply(lambda x: 0 if x == 999 else 1)\n",
    "\n",
    "print(\"New 'prior_contact' column added to df, indicating if the client has been contacted before.\")\n"
   ]
  },
  {
   "cell_type": "code",
   "execution_count": 155,
   "id": "d56a2310",
   "metadata": {},
   "outputs": [
    {
     "name": "stdout",
     "output_type": "stream",
     "text": [
      "Dropped 'pdays' column from df, keeping 'prior_contact' column to indicate prior contact status.\n"
     ]
    }
   ],
   "source": [
    "#lets drop the 'pdays' column\n",
    "#we will keep the 'prior_contact' column    \n",
    "df.drop(columns=['pdays'], inplace=True)\n",
    "print(\"Dropped 'pdays' column from df, keeping 'prior_contact' column to indicate prior contact status.\")"
   ]
  },
  {
   "cell_type": "code",
   "execution_count": 156,
   "id": "0c10ca05",
   "metadata": {},
   "outputs": [],
   "source": [
    "#put target variable 'y' into binary format\n",
    "#map 'yes' to 1 and 'no' to 0\n",
    "df['y'] = df['y'].map({'yes': 1, 'no': 0}).astype(int)"
   ]
  },
  {
   "cell_type": "markdown",
   "id": "7d0297a1",
   "metadata": {},
   "source": [
    "## One Hot Encoding Notes\n",
    "\n",
    "One-hot encoding is a data preprocessing step used to convert categorical variables (like \"job\", \"education\", \"month\", etc.) into a format that machine learning algorithms can understand.\n",
    "\n",
    "Most machine learning models (especially logistic regression, decision trees, etc.) can't work directly with text labels — they need numbers\n",
    "\n",
    "\n",
    "\n",
    "## Why Use In My Code?\n",
    "One-hot encoding creates a new column for each unique value in a categorical column and assigns a 1 or 0 to indicate presence.\n",
    "\n",
    "This avoids introducing false ordinal relationships (like if you encoded them as 0, 1, 2), which would wrongly suggest that \"technician\" > \"admin.\"\n",
    "\n",
    "I'm building a model to predict whether someone will subscribe to a term deposit (a classification task).\n",
    "\n",
    "Many of the features are categorical:\n",
    "\n",
    "['job', 'marital', 'education', 'default', 'housing', 'loan',\n",
    " 'contact', 'month', 'day_of_week', 'poutcome']\n",
    "\n",
    " \n",
    " To make these usable in My logistic regression or other ML model, I must convert them to numbers — and one-hot encoding is the standard, safe way to do it.\n"
   ]
  },
  {
   "cell_type": "code",
   "execution_count": 157,
   "id": "47ed49df",
   "metadata": {},
   "outputs": [
    {
     "name": "stdout",
     "output_type": "stream",
     "text": [
      "All categorical variables in df have been converted to dummy variables.\n",
      "Converted categorical columns to dummy variables:\n",
      "['job', 'marital', 'education', 'default', 'housing', 'loan', 'contact', 'month', 'day_of_week', 'poutcome']\n",
      "\n",
      "New columns created by one-hot encoding:\n",
      "['contact_telephone', 'day_of_week_mon', 'day_of_week_thu', 'day_of_week_tue', 'day_of_week_wed', 'default_unknown', 'default_yes', 'education_basic.6y', 'education_basic.9y', 'education_high.school', 'education_illiterate', 'education_professional.course', 'education_university.degree', 'education_unknown', 'housing_unknown', 'housing_yes', 'job_blue-collar', 'job_entrepreneur', 'job_housemaid', 'job_management', 'job_retired', 'job_self-employed', 'job_services', 'job_student', 'job_technician', 'job_unemployed', 'job_unknown', 'loan_unknown', 'loan_yes', 'marital_married', 'marital_single', 'marital_unknown', 'month_aug', 'month_dec', 'month_jul', 'month_jun', 'month_mar', 'month_may', 'month_nov', 'month_oct', 'month_sep', 'poutcome_nonexistent', 'poutcome_success']\n"
     ]
    }
   ],
   "source": [
    "# Define the original categorical columns\n",
    "categorical_cols = [\n",
    "    'job', 'marital', 'education', 'default', 'housing', 'loan',\n",
    "    'contact', 'month', 'day_of_week', 'poutcome'\n",
    "]\n",
    "\n",
    "# Make a copy of df BEFORE encoding for comparison later\n",
    "df_beforeEncoding = df.copy()\n",
    "\n",
    "# Convert categorical variables to dummy/indicator variables\n",
    "df_afterEncoding = pd.get_dummies(df, columns=categorical_cols, drop_first=True)\n",
    "\n",
    "# Informative messages\n",
    "print(\"All categorical variables in df have been converted to dummy variables.\")\n",
    "print(\"Converted categorical columns to dummy variables:\")\n",
    "print(categorical_cols)\n",
    "print()\n",
    "\n",
    "# Compare column sets to find new dummy variables created\n",
    "new_columns = set(df_afterEncoding.columns) - set(df_beforeEncoding.columns)\n",
    "print(\"New columns created by one-hot encoding:\")\n",
    "print(sorted(new_columns))  # sorted to make it easier to read"
   ]
  },
  {
   "cell_type": "markdown",
   "id": "8468c6e2",
   "metadata": {},
   "source": [
    "## 📊 DataFrames Overview\n",
    "\n",
    "### 1. `df_beforeEncoding`\n",
    "This is the **original** DataFrame, with some basic cleaning applied. It includes the following **categorical columns** that require encoding:\n",
    "\n",
    "```python\n",
    "['job', 'marital', 'education', 'default', 'housing', 'loan', \n",
    " 'contact', 'month', 'day_of_week', 'poutcome']\n",
    "\n"
   ]
  },
  {
   "cell_type": "markdown",
   "id": "c7396e99",
   "metadata": {},
   "source": [
    "## 📊 DataFrames Overview\n",
    "\n",
    "### 2. `df_afterEncoding`\n",
    "This is the **updated** DataFrame, with One Hot Encoding applied. It includes the following **Numerical columns** that have been encoded:\n",
    "\n",
    "```python\n",
    "['contact_telephone', 'day_of_week_mon', 'day_of_week_thu', 'day_of_week_tue', 'day_of_week_wed', 'default_unknown', 'default_yes', 'education_basic.6y', 'education_basic.9y', 'education_high.school', 'education_illiterate', 'education_professional.course', 'education_university.degree', 'education_unknown', 'housing_unknown', 'housing_yes', 'job_blue-collar', 'job_entrepreneur', 'job_housemaid', 'job_management', 'job_retired', 'job_self-employed', 'job_services', 'job_student', 'job_technician', 'job_unemployed', 'job_unknown', 'loan_unknown', 'loan_yes', 'marital_married', 'marital_single', 'marital_unknown', 'month_aug', 'month_dec', 'month_jul', 'month_jun', 'month_mar', 'month_may', 'month_nov', 'month_oct', 'month_sep', 'poutcome_nonexistent', 'poutcome_success']\n"
   ]
  }
 ],
 "metadata": {
  "kernelspec": {
   "display_name": "Python 3",
   "language": "python",
   "name": "python3"
  },
  "language_info": {
   "codemirror_mode": {
    "name": "ipython",
    "version": 3
   },
   "file_extension": ".py",
   "mimetype": "text/x-python",
   "name": "python",
   "nbconvert_exporter": "python",
   "pygments_lexer": "ipython3",
   "version": "3.9.13"
  }
 },
 "nbformat": 4,
 "nbformat_minor": 5
}
