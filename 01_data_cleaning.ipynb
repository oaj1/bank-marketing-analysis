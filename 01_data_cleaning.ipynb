{
 "cells": [
  {
   "cell_type": "code",
   "execution_count": 87,
   "id": "3a20310c",
   "metadata": {},
   "outputs": [],
   "source": [
    "# 1. Import libraries and load data\n",
    "import pandas as pd\n",
    "\n",
    "df = pd.read_csv('bank-additional-full.csv', sep=';')"
   ]
  },
  {
   "cell_type": "code",
   "execution_count": 88,
   "id": "37940877",
   "metadata": {},
   "outputs": [
    {
     "name": "stdout",
     "output_type": "stream",
     "text": [
      "Columns with NA values after replacement:\n",
      "job           330\n",
      "marital        80\n",
      "education    1731\n",
      "default      8597\n",
      "housing       990\n",
      "loan          990\n",
      "dtype: int64\n"
     ]
    }
   ],
   "source": [
    "#Now to handle unspecified values, we will replace them with NA\n",
    "df.replace('unknown', pd.NA, inplace=True)\n",
    "\n",
    "#lets figure out which columns have unknown values and how many\n",
    "unknown_values = df.isna().sum()\n",
    "unknown_values = unknown_values[unknown_values > 0]\n",
    "print(\"Columns with NA values after replacement:\")\n",
    "print(unknown_values)\n"
   ]
  },
  {
   "cell_type": "code",
   "execution_count": 89,
   "id": "e31ebfd6",
   "metadata": {},
   "outputs": [
    {
     "name": "stdout",
     "output_type": "stream",
     "text": [
      "Descriptive statistics for 'campaign':\n",
      "count    41188.000000\n",
      "mean         2.567593\n",
      "std          2.770014\n",
      "min          1.000000\n",
      "25%          1.000000\n",
      "50%          2.000000\n",
      "75%          3.000000\n",
      "max         56.000000\n",
      "Name: campaign, dtype: float64\n",
      "we see most are between 1 and 3, with a few outliers up to 50.\n",
      "\n",
      "Descriptive statistics for 'campaign_capped':\n",
      "count    41188.000000\n",
      "mean         2.275274\n",
      "std          1.550510\n",
      "min          1.000000\n",
      "25%          1.000000\n",
      "50%          2.000000\n",
      "75%          3.000000\n",
      "max          6.000000\n",
      "Name: campaign_capped, dtype: float64\n"
     ]
    }
   ],
   "source": [
    "# Descriptive statistics for 'campaign'\n",
    "print(\"Descriptive statistics for 'campaign':\")\n",
    "print(df['campaign'].describe())\n",
    "\n",
    "\n",
    "\n",
    "print((\"we see most are between 1 and 3, with a few outliers up to 50.\"))\n",
    "# Cap campaign at 6\n",
    "df['campaign_capped'] = df['campaign'].clip(upper=6)\n",
    "\n",
    "# Descriptive statistics for 'campaign_capped'\n",
    "print(\"\\nDescriptive statistics for 'campaign_capped':\")\n",
    "print(df['campaign_capped'].describe())"
   ]
  },
  {
   "cell_type": "code",
   "execution_count": 90,
   "id": "0b45b910",
   "metadata": {},
   "outputs": [
    {
     "name": "stdout",
     "output_type": "stream",
     "text": [
      "\n",
      "Removing the original 'campaign' column.\n",
      "Original 'campaign' column removed.\n",
      "New 'campaign_capped' column added with values capped at 6.\n"
     ]
    }
   ],
   "source": [
    "#Time to handle data outliers, we will drop the original 'campaign' column\n",
    "print(\"\\nRemoving the original 'campaign' column.\")\n",
    "df.drop(columns=['campaign'], inplace=True)\n",
    "print(\"Original 'campaign' column removed.\")\n",
    "print(\"New 'campaign_capped' column added with values capped at 6.\")\n"
   ]
  },
  {
   "cell_type": "code",
   "execution_count": 91,
   "id": "5c3d5274",
   "metadata": {},
   "outputs": [
    {
     "name": "stdout",
     "output_type": "stream",
     "text": [
      "dropped duration column from df.\n"
     ]
    }
   ],
   "source": [
    "#drop duration column\n",
    "# If the 'duration' column exists, drop it; otherwise, print a message\n",
    "#dropped because it is not useful for analysis and can skew results, occurs after the last contact with the client\n",
    "if 'duration' in df.columns:\n",
    "\tdf.drop(columns=['duration'], inplace=True)\n",
    "\tprint('dropped duration column from df.')\n",
    "else:\n",
    "\tprint(\"'duration' column not found in df.\")"
   ]
  },
  {
   "cell_type": "code",
   "execution_count": 92,
   "id": "32e48639",
   "metadata": {},
   "outputs": [
    {
     "name": "stdout",
     "output_type": "stream",
     "text": [
      "New 'prior_contact' column added to df, indicating if the client has been contacted before.\n"
     ]
    }
   ],
   "source": [
    "#make a new column to indicate if the client has been contacted before\n",
    "#pdays = number of days since the client was last contacted, 999 means the client has not been contacted before\n",
    "#so we will create a new column 'prior_contact' where 0 means no prior contact\n",
    "df['prior_contact'] = df['pdays'].apply(lambda x: 0 if x == 999 else 1)\n",
    "\n",
    "print(\"New 'prior_contact' column added to df, indicating if the client has been contacted before.\")\n"
   ]
  },
  {
   "cell_type": "code",
   "execution_count": 93,
   "id": "d56a2310",
   "metadata": {},
   "outputs": [
    {
     "name": "stdout",
     "output_type": "stream",
     "text": [
      "Columns after removing pdays:\n",
      "Index(['age', 'job', 'marital', 'education', 'default', 'housing', 'loan',\n",
      "       'contact', 'month', 'day_of_week', 'previous', 'poutcome',\n",
      "       'emp.var.rate', 'cons.price.idx', 'cons.conf.idx', 'euribor3m',\n",
      "       'nr.employed', 'y', 'campaign_capped', 'prior_contact'],\n",
      "      dtype='object')\n",
      "pdays column removed, prior_contact column created\n"
     ]
    }
   ],
   "source": [
    "#lets drop the 'pdays' column\n",
    "#we will keep the 'prior_contact' column    \n",
    "df.drop(columns=['pdays'], inplace=True)\n",
    "print(\"Columns after removing pdays:\")\n",
    "print(df.columns)\n",
    "print('pdays column removed, prior_contact column created')"
   ]
  }
 ],
 "metadata": {
  "kernelspec": {
   "display_name": "Python 3",
   "language": "python",
   "name": "python3"
  },
  "language_info": {
   "codemirror_mode": {
    "name": "ipython",
    "version": 3
   },
   "file_extension": ".py",
   "mimetype": "text/x-python",
   "name": "python",
   "nbconvert_exporter": "python",
   "pygments_lexer": "ipython3",
   "version": "3.9.13"
  }
 },
 "nbformat": 4,
 "nbformat_minor": 5
}
